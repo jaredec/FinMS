{
 "cells": [
  {
   "cell_type": "code",
   "execution_count": 192,
   "id": "937bb5d8",
   "metadata": {},
   "outputs": [
    {
     "name": "stdout",
     "output_type": "stream",
     "text": [
      "I(f) = 0.6666666666666667\n"
     ]
    }
   ],
   "source": [
    "# Question 1\n",
    "\n",
    "# define function as instructed\n",
    "def f(x):\n",
    "    return 1/(1+x)**2\n",
    "\n",
    "# implement composite trapezoidal rule\n",
    "def trapezoidal(f,a,b,n):\n",
    "    h = (b-a)/n\n",
    "    s = 0.5*(f(a)+f(b)) # first and last terms\n",
    "    for i in range(1,n): # middle terms\n",
    "        s += f(a+h*i)\n",
    "    return s*h\n",
    "\n",
    "# implement definite integral\n",
    "# INPUT: integrand(x) and bounds a and b\n",
    "# OUTPUT: definite integral value\n",
    "from scipy.integrate import quad\n",
    "def integrand(x):\n",
    "    return 1/(1+x)**2\n",
    "    \n",
    "I = quad(integrand,0.,2)\n",
    "print(\"I(f) =\",I[0])\n"
   ]
  },
  {
   "cell_type": "code",
   "execution_count": 193,
   "id": "0880d6cf",
   "metadata": {},
   "outputs": [
    {
     "name": "stdout",
     "output_type": "stream",
     "text": [
      "Th(f) = 0.6682683087950135\n",
      "error = 0.0016016421283467919\n",
      "Th(f) = 0.6670676941291324\n",
      "error = 0.0004010274624656196\n",
      "Th(f) = 0.6667669623471976\n",
      "error = 0.00010029568053082638\n"
     ]
    }
   ],
   "source": [
    "# Q 1.1\n",
    "# INPUT: bounds a and b, number of nodes n, \n",
    "# OUTPUT: CTR approximation for each value of h, error |I(f)-Th(f)|\n",
    "\n",
    "# set bounds and step size\n",
    "a=0;b=2\n",
    "n=20 # h=2/20\n",
    "Th1 = trapezoidal(f,a,b,n)\n",
    "print(\"Th(f) =\", Th1) # show Th \n",
    "print(\"error =\",abs(I[0]-Th1)) # show error\n",
    "\n",
    "n=40 # h=2/40\n",
    "Th2 = trapezoidal(f,a,b,n)\n",
    "print(\"Th(f) =\", Th2)\n",
    "print(\"error =\",abs(I[0]-Th2))\n",
    "\n",
    "n=80 # h=2/80\n",
    "Th3 = trapezoidal(f,a,b,n)\n",
    "print(\"Th(f) =\", Th3)\n",
    "print(\"error =\",abs(I[0]-Th3))\n"
   ]
  },
  {
   "cell_type": "markdown",
   "id": "c44d4940",
   "metadata": {},
   "source": [
    "Notice that when h gets two times as small, the error is 2^2 times smaller\n",
    "Moreover, when h gets four times as small, the error is 4^2 times smaller"
   ]
  },
  {
   "cell_type": "code",
   "execution_count": 194,
   "id": "64cc0b30",
   "metadata": {
    "scrolled": true
   },
   "outputs": [
    {
     "name": "stdout",
     "output_type": "stream",
     "text": [
      "Observe:\n",
      "When h is twice as small: 3.9938465024302467\n",
      "When h is four times as small: 15.969203457914812\n"
     ]
    }
   ],
   "source": [
    "print(\"Observe:\")\n",
    "print(\"When h is twice as small:\",abs(I[0]-Th1)/abs(I[0]-Th2))\n",
    "print(\"When h is four times as small:\",abs(I[0]-Th1)/abs(I[0]-Th3))"
   ]
  },
  {
   "cell_type": "markdown",
   "id": "01219ae2",
   "metadata": {},
   "source": [
    "This verifies that Th(f) has a convergence trend at the expected\n",
    "quadratic rate"
   ]
  },
  {
   "cell_type": "code",
   "execution_count": 195,
   "id": "fe8c7bbc",
   "metadata": {},
   "outputs": [
    {
     "name": "stdout",
     "output_type": "stream",
     "text": [
      "N=16, Th(f) = 0.6635811968772283\n",
      "error = 0.0030854697894384664\n",
      "N=32, Th(f) = 0.6655589362789418\n",
      "error = 0.0011077303877249367\n",
      "N=64, Th(f) = 0.6662708113785066\n",
      "error = 0.0003958552881601074\n",
      "N=128, Th(f) = 0.6665256572968263\n",
      "error = 0.0001410093698404058\n"
     ]
    }
   ],
   "source": [
    "# Q1.2\n",
    "from math import sqrt\n",
    "\n",
    "# change function\n",
    "def f(x):\n",
    "    return sqrt(x)\n",
    "\n",
    "def trapezoidal(f,a,b,n):\n",
    "    h = (b-a)/n\n",
    "    s = 0.5*(f(a)+f(b)) \n",
    "    for i in range(1,n): \n",
    "        s += f(a+h*i)\n",
    "    return s*h\n",
    "\n",
    "a=0;b=1 # change bounds\n",
    "n=16 # N=16\n",
    "Th1 = trapezoidal(f,a,b,n)\n",
    "print(\"N=16, Th(f) =\", Th1) # show Th \n",
    "print(\"error =\",abs(I[0]-Th1))\n",
    "\n",
    "a=0;b=1\n",
    "n=32 # N=32\n",
    "Th2 = trapezoidal(f,a,b,n)\n",
    "print(\"N=32, Th(f) =\", Th2) \n",
    "print(\"error =\",abs(I[0]-Th2))\n",
    "\n",
    "a=0;b=1\n",
    "n=64 # N=64\n",
    "Th3 = trapezoidal(f,a,b,n)\n",
    "print(\"N=64, Th(f) =\", Th3)\n",
    "print(\"error =\",abs(I[0]-Th3))\n",
    "\n",
    "a=0;b=1\n",
    "n=128 # N=128\n",
    "Th4 = trapezoidal(f,a,b,n)\n",
    "print(\"N=128, Th(f) =\", Th4) \n",
    "print(\"error =\",abs(I[0]-Th4))"
   ]
  },
  {
   "cell_type": "markdown",
   "id": "a06a48e5",
   "metadata": {},
   "source": [
    "If there is a second order convergence to the exact value of the integral, then there exists a constant C such that the error is always smaller than Ch^2, we can see by the code below that C increases as h becomes small"
   ]
  },
  {
   "cell_type": "code",
   "execution_count": 196,
   "id": "54ac6860",
   "metadata": {},
   "outputs": [
    {
     "name": "stdout",
     "output_type": "stream",
     "text": [
      "0.7898802660962474\n",
      "1.1343159170303352\n",
      "1.6214232603038\n",
      "2.3102975154652086\n"
     ]
    }
   ],
   "source": [
    "print(abs(I[0]-Th1)/((1/16)**2))\n",
    "print(abs(I[0]-Th2)/((1/32)**2))\n",
    "print(abs(I[0]-Th3)/((1/64)**2))\n",
    "print(abs(I[0]-Th4)/((1/128)**2))"
   ]
  },
  {
   "cell_type": "markdown",
   "id": "e5753e9d",
   "metadata": {},
   "source": [
    "Thus, we cannot find a constant C and therefore cannot find a second order convergence to the exact value of the integral"
   ]
  },
  {
   "cell_type": "code",
   "execution_count": 197,
   "id": "d2cfb50b",
   "metadata": {},
   "outputs": [
    {
     "name": "stdout",
     "output_type": "stream",
     "text": [
      "h= 0.031332853432887504 when q(h) is 4.00038548030733\n"
     ]
    }
   ],
   "source": [
    "# Question 2\n",
    "\n",
    "from math import cos, sqrt, pi\n",
    "\n",
    "# set function\n",
    "def f(x):\n",
    "    return cos(x**2)\n",
    "\n",
    "# Redefine function \n",
    "def trapezoidal(f,a,b,n):\n",
    "    h = (b-a)/n\n",
    "    s = 0.5*(f(a)+f(b)) \n",
    "    for i in range(1,n): \n",
    "        s += f(a+h*i)\n",
    "    return s*h\n",
    "\n",
    "a=0;b=sqrt(pi/2) # set bounds\n",
    "\n",
    "# Q2.1\n",
    "# apply definition of q(h)\n",
    "def q(h):\n",
    "    return (trapezoidal(f,a,b,n*2)-trapezoidal(f,a,b,n))/(trapezoidal(f,a,b,n*4)-trapezoidal(f,a,b,n*2))\n",
    "n=40\n",
    "print(\"h=\",(b-a)/n,\"when q(h) is\",q(h))"
   ]
  },
  {
   "cell_type": "markdown",
   "id": "829de7de",
   "metadata": {},
   "source": [
    "We see that when h=0.3133, q(h) is approximately equal to 4"
   ]
  },
  {
   "cell_type": "code",
   "execution_count": 198,
   "id": "a9ae5614",
   "metadata": {},
   "outputs": [
    {
     "name": "stdout",
     "output_type": "stream",
     "text": [
      "I(f) = 0.9774514242913297\n",
      "Th(f) = 0.9772463301635482\n",
      "error = 0.00020509412778146885\n"
     ]
    }
   ],
   "source": [
    "# Q2.2\n",
    "\n",
    "# exact value of integral\n",
    "from scipy.integrate import quad\n",
    "def integrand(x):\n",
    "    return cos(x**2)\n",
    "    \n",
    "I = quad(integrand,0.,sqrt(pi/2))\n",
    "print(\"I(f) =\",I[0])\n",
    "\n",
    "# trapezoidal\n",
    "Th =trapezoidal(f,a,b,n)\n",
    "print(\"Th(f) =\", Th)\n",
    "print(\"error =\",abs(I[0]-Th)) # error for that value of h"
   ]
  },
  {
   "cell_type": "code",
   "execution_count": 199,
   "id": "1e1c0794",
   "metadata": {},
   "outputs": [
    {
     "name": "stdout",
     "output_type": "stream",
     "text": [
      "Sh(f) = 0.977451429561632\n",
      "Th(f) = 0.9772463301635482\n"
     ]
    }
   ],
   "source": [
    "# Q2.3\n",
    "# define new approximation Sh\n",
    "def Sh(f,a,b,n):\n",
    "    return trapezoidal(f,a,b,n)+(4/3)*(trapezoidal(f,a,b,n*2)-trapezoidal(f,a,b,n))\n",
    "print(\"Sh(f) =\",Sh(f,a,b,n))\n",
    "print(\"Th(f) =\", Th) # for comparison"
   ]
  },
  {
   "cell_type": "markdown",
   "id": "e8735ba7",
   "metadata": {},
   "source": [
    "Q2.4 \n",
    "\n",
    "Sh(f) is more accurate and converges to I(f) quicker than Th(f) because Sh(f) includes an error term. \n",
    "Sh(f)=Th(f)+Eh(f) where Eh(f) is approximately equal to 4/3(Th/2(f)-Th(f)).\n",
    "Moreoever, I(f)= Th(f)+Ch^2+R(h)= Sh(f)+R(h)\n",
    "\n",
    "As a result, Sh(f) can be extrapolated further and has an error that converges faster than h^2 "
   ]
  },
  {
   "cell_type": "code",
   "execution_count": 200,
   "id": "2359e2d8",
   "metadata": {},
   "outputs": [
    {
     "name": "stdout",
     "output_type": "stream",
     "text": [
      "q1(h)=  15.998832357781682\n"
     ]
    }
   ],
   "source": [
    "# Q2.5 \n",
    "def q1(h):\n",
    "    return (Sh(f,a,b,n*2)-Sh(f,a,b,n))/(Sh(f,a,b,n*4)-Sh(f,a,b,n*2))\n",
    "n=40\n",
    "print(\"q1(h)= \",q1(h))"
   ]
  }
 ],
 "metadata": {
  "kernelspec": {
   "display_name": "Python 3 (ipykernel)",
   "language": "python",
   "name": "python3"
  },
  "language_info": {
   "codemirror_mode": {
    "name": "ipython",
    "version": 3
   },
   "file_extension": ".py",
   "mimetype": "text/x-python",
   "name": "python",
   "nbconvert_exporter": "python",
   "pygments_lexer": "ipython3",
   "version": "3.9.7"
  }
 },
 "nbformat": 4,
 "nbformat_minor": 5
}
