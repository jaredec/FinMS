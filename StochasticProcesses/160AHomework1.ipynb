{
 "cells": [
  {
   "cell_type": "markdown",
   "metadata": {},
   "source": [
    "# Python Homework 1"
   ]
  },
  {
   "cell_type": "markdown",
   "metadata": {},
   "source": [
    "<b> Instructions:</b> This Python Homework is due on <b> Tuesday, April 12th, at 11:59 p.m.</b> You have to submit your version of this Jupyter Notebook via Gradescope!"
   ]
  },
  {
   "cell_type": "markdown",
   "metadata": {},
   "source": [
    "In this homework you are supposed to use the random number generater random.random_sample from the numpy package to generate random numbers with three different distributions. \n",
    "\n",
    "Recall from the lecture that if $F:\\mathbb{R}\\rightarrow [0,1]$ is a distribution function with generalized inverse $F^{-1}:[0,1]\\rightarrow \\mathbb{R}$ and $U$ is a uniform random variable, then $F^{-1}(U)$ is a random variable with distribution function $F$.\n",
    "\n",
    "Using the function random.random_sample from numpy package write three functions: \n",
    "* exponentialRV(seed, mean,n) that returns for given seed a bunch of n random variables from an exponential distribution with the provided mean. Derive the generalized inverse distribution function analytically for your simulation.\n",
    "* binomial(seed, p,m,n) that returns for given seed a bunch of n Binomial distributed random numbers with the provided success probability p and the number of trial equal to m. You have to numerically calculate the inverse distribution function.\n",
    "* funnyDiceRV(seed,n) that returns for given seed a bunch of n random number which describe a biased die with distribution $\\mathbb{P}(\\{1\\})=\\mathbb{P}(\\{2\\})=1/6$,$\\mathbb{P}(\\{3\\})=\\mathbb{P}(\\{4\\})=1/4$ and $\\mathbb{P}(\\{5\\})=\\mathbb{P}(\\{6\\})=1/12$."
   ]
  },
  {
   "cell_type": "code",
   "execution_count": 9,
   "metadata": {},
   "outputs": [],
   "source": [
    "import numpy as np\n",
    "import math\n",
    "import matplotlib.pyplot as plt"
   ]
  },
  {
   "cell_type": "markdown",
   "metadata": {},
   "source": [
    "Here should come your code for the three functions:"
   ]
  },
  {
   "cell_type": "code",
   "execution_count": 50,
   "metadata": {},
   "outputs": [],
   "source": [
    "def exponentialRV(seed, mean,n):\n",
    "    \n",
    "    ##Here write your own code\n",
    "    np.random.seed(seed) # set seed for random generator\n",
    "    exponentialSample = []\n",
    "    \n",
    "    for i in range(1):\n",
    "      u = np.random.random_sample(n)  # return array of floats from 0 to 1\n",
    "      exponentialSample = -mean*np.log(1-u)\n",
    "    \n",
    "    return exponentialSample"
   ]
  },
  {
   "cell_type": "code",
   "execution_count": 66,
   "metadata": {},
   "outputs": [],
   "source": [
    "def binomial(seed,p,m,n):\n",
    "   \n",
    "    ##Here write your own code\n",
    "    np.random.seed(seed)\n",
    "    binomialSample=[]\n",
    "    \n",
    "    for i in range(n):\n",
    "      u=np.random.random_sample(1)  # F(x)\n",
    "      \n",
    "      sum=0\n",
    "      for j in range(m):\n",
    "        mass=(np.math.factorial(m)/(np.math.factorial(j)*np.math.factorial(m-j)))*(p**j)*((1-p)**(m-j))\n",
    "        if 0<=(sum+mass)< u:\n",
    "          sum=sum+mass\n",
    "        else:\n",
    "          binomialSample.append(j)\n",
    "          break\n",
    "    \n",
    "    return binomialSample"
   ]
  },
  {
   "cell_type": "code",
   "execution_count": 67,
   "metadata": {},
   "outputs": [],
   "source": [
    "def funnyDiceRV(seed, n):\n",
    "      \n",
    "    ##Here write your own code\n",
    "    np.random.seed(seed)\n",
    "    funnyDiceSample=[]\n",
    "    biased=[0,(1/6),(1/3),(7/12),(4/5),(11/12),1] # given the pmf\n",
    "\n",
    "    for i in range(n):\n",
    "      p = np.random.random_sample(1) # float between [0, 1)\n",
    "      for roll in range(1, 6+1):\n",
    "        if biased[roll-1] <= p < biased[roll]:\n",
    "          funnyDiceSample.append(roll)\n",
    "    \n",
    "    return funnyDiceSample"
   ]
  },
  {
   "cell_type": "code",
   "execution_count": 68,
   "metadata": {},
   "outputs": [
    {
     "name": "stdout",
     "output_type": "stream",
     "text": [
      "[0.26236509 1.21717374 5.88456477 0.33509781 2.30128578]\n",
      "[11, 13, 16, 11, 14]\n",
      "[1, 3, 5, 1, 3]\n"
     ]
    }
   ],
   "source": [
    "print(exponentialRV(105,3,5)) # You should test all three functions \n",
    "print(binomial(105, 0.7,20,5))\n",
    "print(funnyDiceRV(105, 5))"
   ]
  },
  {
   "cell_type": "markdown",
   "metadata": {},
   "source": [
    "You should use the following routine to plot a histogram of the distribution of all three simulated random variables"
   ]
  },
  {
   "cell_type": "code",
   "execution_count": 71,
   "metadata": {},
   "outputs": [
    {
     "data": {
      "image/png": "[encoded data removed]",
      "text/plain": [
       "<Figure size 432x288 with 1 Axes>"
      ]
     },
     "metadata": {
      "needs_background": "light"
     },
     "output_type": "display_data"
    },
    {
     "data": {
      "image/png": "[encoded data removed]",
      "text/plain": [
       "<Figure size 432x288 with 1 Axes>"
      ]
     },
     "metadata": {
      "needs_background": "light"
     },
     "output_type": "display_data"
    },
    {
     "data": {
      "image/png": "[encoded data removed]",
      "text/plain": [
       "<Figure size 432x288 with 1 Axes>"
      ]
     },
     "metadata": {
      "needs_background": "light"
     },
     "output_type": "display_data"
    }
   ],
   "source": [
    "numberSimulations=10000\n",
    "exponentialSamples=exponentialRV(1, 2,numberSimulations)\n",
    "binomialSamples=binomial(1, 0.7,20,numberSimulations)\n",
    "funnyDiceSamples=funnyDiceRV(1, numberSimulations)\n",
    "\n",
    "#np.histogram(exponentialSamples)\n",
    "plt.hist(exponentialSamples, bins='auto')\n",
    "plt.title(\"Histogram Exponential\")\n",
    "plt.show()\n",
    "plt.hist(binomialSamples, bins='auto')\n",
    "plt.title(\"Histogram Binomial\")\n",
    "plt.show()\n",
    "plt.hist(funnyDiceSamples, bins='auto')\n",
    "plt.title(\"Histogram Funny Dice\")\n",
    "plt.show()"
   ]
  },
  {
   "cell_type": "markdown",
   "metadata": {},
   "source": [
    "For the exponential random variable, you should then test the empirical expectation and variance of the random variables you generated. Assume you have generated random variables $X_1,X_2,X_3,\\dots,X_n$ calculate the empirical mean \n",
    "\\begin{equation}\n",
    "\\hat{\\text{ }\\mu} =\\frac{\\sum^n_{i=1} X_i}{n}\n",
    "\\end{equation}\n",
    "and the empirical variance \n",
    "\\begin{equation}\n",
    "\\hat{\\text{ }\\sigma} = \\frac{\\sum^n_{i=1}(X_i - \\hat{\\mu})^2}{n}\n",
    "\\end{equation}\n",
    "Use 10000 simulations. Is the result of your calculation in line with what you expect? Why?"
   ]
  },
  {
   "cell_type": "code",
   "execution_count": 75,
   "metadata": {},
   "outputs": [
    {
     "name": "stdout",
     "output_type": "stream",
     "text": [
      "Empirical Mean: 1.9770938809848242\n",
      "Empirical Variance: 3.8485810293246394\n"
     ]
    }
   ],
   "source": [
    "#Here you add the few lines of code for your calculations\n",
    "\n",
    "# Number of simulations already set to 10000\n",
    "\n",
    "# Empirical Mean\n",
    "def emp_mean(exp_RV):\n",
    "    sigma = 0 \n",
    "    l=len(exp_RV) # length of exponential RV\n",
    "    \n",
    "    for i in range(l):\n",
    "        sigma += exp_RV[i] \n",
    "    return sigma/l  \n",
    "\n",
    "# Empirical Variance\n",
    "def emp_var(exp_RV,u): \n",
    "    sigma = 0 \n",
    "    l=len(exp_RV)\n",
    "    \n",
    "    for i in exp_RV: \n",
    "        sigma += (i-u)**2 \n",
    "    return sigma/l\n",
    "\n",
    "print('Empirical Mean:',emp_mean(exponentialSamples))\n",
    "u = emp_mean(exponentialSamples) \n",
    "print('Empirical Variance:',emp_var(exponentialSamples,u))"
   ]
  },
  {
   "cell_type": "markdown",
   "metadata": {},
   "source": [
    "Explanation: \n",
    "\n",
    "Yes the result is what I expected. \n",
    "\n",
    "Given a mean of 2, our result 1.977093 is a good approximation with 10000 simulations. \n",
    "Moreover, since the variance of an exponential distribution is 1/lambda^2, our expected variance is 2^2=4 and our result of 3.84858 is approximately around 4 (lambda = 1/2).\n"
   ]
  }
 ],
 "metadata": {
  "anaconda-cloud": {},
  "kernelspec": {
   "display_name": "Python 3 (ipykernel)",
   "language": "python",
   "name": "python3"
  },
  "language_info": {
   "codemirror_mode": {
    "name": "ipython",
    "version": 3
   },
   "file_extension": ".py",
   "mimetype": "text/x-python",
   "name": "python",
   "nbconvert_exporter": "python",
   "pygments_lexer": "ipython3",
   "version": "3.9.7"
  }
 },
 "nbformat": 4,
 "nbformat_minor": 2
}
